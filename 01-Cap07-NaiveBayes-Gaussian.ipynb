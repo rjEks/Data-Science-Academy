{
 "cells": [
  {
   "cell_type": "markdown",
   "metadata": {},
   "source": [
    "# <font color='blue'>Data Science Academy - Machine Learning</font>\n",
    "\n",
    "# <font color='blue'>Capítulo 7 - Naive Bayes</font>"
   ]
  },
  {
   "cell_type": "markdown",
   "metadata": {},
   "source": [
    "http://scikit-learn.org/stable/modules/naive_bayes.html"
   ]
  },
  {
   "cell_type": "markdown",
   "metadata": {},
   "source": [
    "## Gaussian Naive Bayes (GaussianNB) - Scikit-Learn"
   ]
  },
  {
   "cell_type": "markdown",
   "metadata": {},
   "source": [
    "Ao lidar com dados contínuos, uma suposição típica é que os valores contínuos associados a cada classe são distribuídos de acordo com uma distribuição gaussiana (distribuição normal)."
   ]
  },
  {
   "cell_type": "markdown",
   "metadata": {},
   "source": [
    "http://scikit-learn.org/stable/modules/generated/sklearn.naive_bayes.GaussianNB.html"
   ]
  },
  {
   "cell_type": "markdown",
   "metadata": {},
   "source": [
    "http://i.stanford.edu/pub/cstr/reports/cs/tr/79/773/CS-TR-79-773.pdf"
   ]
  },
  {
   "cell_type": "markdown",
   "metadata": {},
   "source": [
    "### Gaussian Naive Bayes - Exemplo 1"
   ]
  },
  {
   "cell_type": "code",
   "execution_count": 1,
   "metadata": {},
   "outputs": [
    {
     "name": "stdout",
     "output_type": "stream",
     "text": [
      "Total de Observações: 150 - Total de Previsões Incorretas : 6\n"
     ]
    }
   ],
   "source": [
    "from sklearn import datasets\n",
    "from sklearn.naive_bayes import GaussianNB\n",
    "\n",
    "# Dataset\n",
    "iris = datasets.load_iris()\n",
    "\n",
    "# Classificador\n",
    "clf = GaussianNB()\n",
    "\n",
    "# Modelo\n",
    "modelo = clf.fit(iris.data, iris.target)\n",
    "\n",
    "# Previsões\n",
    "y_pred = modelo.predict(iris.data)\n",
    "\n",
    "# Imprime o resultado\n",
    "print(\"Total de Observações: %d - Total de Previsões Incorretas : %d\" \n",
    "      % (iris.data.shape[0],(iris.target != y_pred).sum()))"
   ]
  },
  {
   "cell_type": "markdown",
   "metadata": {},
   "source": [
    "### Gaussian Naive Bayes - Exemplo 2"
   ]
  },
  {
   "cell_type": "code",
   "execution_count": 2,
   "metadata": {},
   "outputs": [
    {
     "name": "stdout",
     "output_type": "stream",
     "text": [
      "GaussianNB(priors=None)\n",
      "             precision    recall  f1-score   support\n",
      "\n",
      "          0       1.00      1.00      1.00        50\n",
      "          1       0.94      0.94      0.94        50\n",
      "          2       0.94      0.94      0.94        50\n",
      "\n",
      "avg / total       0.96      0.96      0.96       150\n",
      "\n",
      "[[50  0  0]\n",
      " [ 0 47  3]\n",
      " [ 0  3 47]]\n"
     ]
    }
   ],
   "source": [
    "# Gaussian Naive Bayes - Exemplo 2\n",
    "from sklearn import datasets\n",
    "from sklearn import metrics\n",
    "from sklearn.naive_bayes import GaussianNB\n",
    "\n",
    "# Dataset\n",
    "dataset = datasets.load_iris()\n",
    "\n",
    "# Classificador \n",
    "clf = GaussianNB()\n",
    "\n",
    "# Modelo\n",
    "modelo = clf.fit(dataset.data, dataset.target)\n",
    "print(modelo)\n",
    "\n",
    "# Previsões\n",
    "observado = dataset.target\n",
    "previsto = modelo.predict(dataset.data)\n",
    "\n",
    "# Sumário\n",
    "print(metrics.classification_report(observado, previsto))\n",
    "print(metrics.confusion_matrix(observado, previsto))"
   ]
  },
  {
   "cell_type": "markdown",
   "metadata": {},
   "source": [
    "### Gaussian Naive Bayes - Exemplo 3"
   ]
  },
  {
   "cell_type": "markdown",
   "metadata": {},
   "source": [
    "Machine Learning and Data Mining for Astronomy - http://www.astroml.org/"
   ]
  },
  {
   "cell_type": "markdown",
   "metadata": {},
   "source": [
    "Obs: É necessário instalar o LaTeX de acordo com a versão do seu sistema operacional."
   ]
  },
  {
   "cell_type": "code",
   "execution_count": 3,
   "metadata": {},
   "outputs": [
    {
     "name": "stdout",
     "output_type": "stream",
     "text": [
      "Requirement already satisfied: astroML in /Users/dmpm/anaconda3/lib/python3.6/site-packages (0.3)\r\n"
     ]
    }
   ],
   "source": [
    "!pip install astroML"
   ]
  },
  {
   "cell_type": "code",
   "execution_count": 4,
   "metadata": {},
   "outputs": [
    {
     "data": {
      "image/png": "[encoded data removed]",
      "text/plain": [
       "<Figure size 360x270 with 1 Axes>"
      ]
     },
     "metadata": {},
     "output_type": "display_data"
    }
   ],
   "source": [
    "import numpy as np\n",
    "from sklearn.naive_bayes import GaussianNB\n",
    "from astroML.plotting import setup_text_plots\n",
    "import matplotlib.pyplot as plt\n",
    "from matplotlib import colors\n",
    "%matplotlib inline\n",
    "\n",
    "\n",
    "setup_text_plots(fontsize = 8, usetex = True)\n",
    "\n",
    "# Criando massa de dados \n",
    "np.random.seed(0)\n",
    "mu1 = [1, 1]\n",
    "cov1 = 0.3 * np.eye(2)\n",
    "mu2 = [5, 3]\n",
    "cov2 = np.eye(2) * np.array([0.4, 0.1])\n",
    "\n",
    "# Concatenando\n",
    "X = np.concatenate([np.random.multivariate_normal(mu1, cov1, 100),\n",
    "                    np.random.multivariate_normal(mu2, cov2, 100)])\n",
    "y = np.zeros(200)\n",
    "y[100:] = 1\n",
    "\n",
    "# Criação do Modelo\n",
    "clf = GaussianNB()\n",
    "clf.fit(X, y)\n",
    "\n",
    "# Previsões\n",
    "xlim = (-1, 8)\n",
    "ylim = (-1, 5)\n",
    "xx, yy = np.meshgrid(np.linspace(xlim[0], xlim[1], 71), np.linspace(ylim[0], ylim[1], 81))\n",
    "Z = clf.predict_proba(np.c_[xx.ravel(), yy.ravel()])\n",
    "Z = Z[:, 1].reshape(xx.shape)\n",
    "\n",
    "# Plot dos resultados\n",
    "fig = plt.figure(figsize = (5, 3.75))\n",
    "ax = fig.add_subplot(111)\n",
    "ax.scatter(X[:, 0], X[:, 1], c = y, cmap = plt.cm.binary, zorder = 2)\n",
    "\n",
    "ax.contour(xx, yy, Z, [0.5], colors = 'k')\n",
    "\n",
    "ax.set_xlim(xlim)\n",
    "ax.set_ylim(ylim)\n",
    "\n",
    "ax.set_xlabel('$x$')\n",
    "ax.set_ylabel('$y$')\n",
    "\n",
    "plt.show()"
   ]
  },
  {
   "cell_type": "markdown",
   "metadata": {},
   "source": [
    "### Gaussian Naive Bayes - Exemplo 4"
   ]
  },
  {
   "cell_type": "code",
   "execution_count": 5,
   "metadata": {},
   "outputs": [],
   "source": [
    "import numpy as np\n",
    "from random import random\n",
    "from sklearn.naive_bayes import GaussianNB\n",
    "from sklearn.model_selection import train_test_split\n",
    "from matplotlib import pyplot as plt\n",
    "import pylab as pl\n",
    "import matplotlib\n",
    "from matplotlib.colors import ListedColormap\n",
    "from sklearn import neighbors, datasets\n",
    "%matplotlib inline"
   ]
  },
  {
   "cell_type": "code",
   "execution_count": 6,
   "metadata": {},
   "outputs": [],
   "source": [
    "# Massa de dados representando 3 classes\n",
    "leopardo_features = [(random() * 5 + 8, random() * 7 + 12) for x in range(5)]\n",
    "urso_features = [(random() * 4 + 3, random() * 2 + 30) for x in range(4)]\n",
    "elefante_features = [(random() * 3 + 20, (random() - 0.5) * 4 + 23) for x in range(6)]\n",
    "\n",
    "# X\n",
    "x = urso_features + elefante_features + leopardo_features\n",
    "\n",
    "# Y\n",
    "y = ['urso'] * len(urso_features) + ['elefante'] * len(elefante_features) + ['leopardo'] * len(leopardo_features)"
   ]
  },
  {
   "cell_type": "code",
   "execution_count": 7,
   "metadata": {},
   "outputs": [
    {
     "data": {
      "image/png": "[encoded data removed]",
      "text/plain": [
       "<Figure size 432x288 with 1 Axes>"
      ]
     },
     "metadata": {},
     "output_type": "display_data"
    }
   ],
   "source": [
    "# Plot dos dados\n",
    "fig, axis = plt.subplots(1, 1)\n",
    "\n",
    "# Classe 1\n",
    "urso_weight, urso_height = zip(*urso_features)\n",
    "axis.plot(urso_weight, urso_height, 'ro', label = 'Ursos')\n",
    "\n",
    "# Classe 2\n",
    "elefante_weight, elefante_height = zip(*elefante_features)\n",
    "axis.plot(elefante_weight, elefante_height, 'bo', label = 'Elefantes')\n",
    "\n",
    "# Classe 3\n",
    "leopardo_weight, leopardo_height = zip(*leopardo_features)\n",
    "axis.plot(leopardo_weight, leopardo_height, 'yo', label = 'Leopardos')\n",
    "\n",
    "# Eixos\n",
    "axis.legend(loc = 4)\n",
    "axis.set_xlabel('Peso')\n",
    "axis.set_ylabel('Altura')\n",
    "\n",
    "# Plot\n",
    "plt.show()"
   ]
  },
  {
   "cell_type": "code",
   "execution_count": 8,
   "metadata": {},
   "outputs": [
    {
     "name": "stdout",
     "output_type": "stream",
     "text": [
      "['leopardo' 'urso' 'elefante' 'leopardo']\n",
      "[[4.73080415e-130 1.00000000e+000 0.00000000e+000]\n",
      " [4.66079062e-081 2.18403985e-023 1.00000000e+000]\n",
      " [1.00000000e+000 5.71472088e-026 1.26019646e-244]\n",
      " [3.65019441e-028 1.00000000e+000 0.00000000e+000]]\n"
     ]
    }
   ],
   "source": [
    "# Criando o Modelo com os dados de treino\n",
    "clf = GaussianNB()\n",
    "clf.fit(x, y)\n",
    "\n",
    "# Criando dados de teste\n",
    "new_xses = [[2, 3], [3, 31], [21, 23], [12, 16]]\n",
    "\n",
    "# Previsões\n",
    "print (clf.predict(new_xses))\n",
    "print (clf.predict_proba(new_xses))"
   ]
  },
  {
   "cell_type": "code",
   "execution_count": 9,
   "metadata": {},
   "outputs": [],
   "source": [
    "def plot_classification_results(clf, X, y, title):\n",
    "    # Divide o dataset em treino e teste\n",
    "    X_train, X_test, y_train, y_test = train_test_split(X, y, test_size = 0.2)\n",
    "\n",
    "    # Fit dos dados com o classificador\n",
    "    clf.fit(X_train, y_train)\n",
    "\n",
    "    # Cores para o gráfico\n",
    "    cmap_light = ListedColormap(['#FFAAAA', '#AAFFAA', '#AAAAFF'])\n",
    "    cmap_bold = ListedColormap(['#FF0000', '#00FF00', '#0000FF'])\n",
    "\n",
    "    h = .02  # step size in the mesh\n",
    "    \n",
    "    # Plot da fronteira de decisão.\n",
    "    # Usando o meshgrid do NumPy e atribuindo uma cor para cada ponto \n",
    "    x_min, x_max = X[:, 0].min() - 1, X[:, 0].max() + 1\n",
    "    y_min, y_max = X[:, 1].min() - 1, X[:, 1].max() + 1\n",
    "    xx, yy = np.meshgrid(np.arange(x_min, x_max, h), np.arange(y_min, y_max, h))\n",
    "\n",
    "    # Previsões\n",
    "    Z = clf.predict(np.c_[xx.ravel(), yy.ravel()])\n",
    "\n",
    "    # Resultados em cada cor do plot\n",
    "    Z = Z.reshape(xx.shape)\n",
    "    pl.figure()\n",
    "    pl.pcolormesh(xx, yy, Z, cmap=cmap_light)\n",
    "\n",
    "    # Plot dos pontos de dados de treino\n",
    "    pl.scatter(X_train[:, 0], X_train[:, 1], c = y_train, cmap = cmap_bold)\n",
    "\n",
    "    y_predicted = clf.predict(X_test)\n",
    "    score = clf.score(X_test, y_test)\n",
    "    pl.scatter(X_test[:, 0], X_test[:, 1], c = y_predicted, alpha = 0.5, cmap = cmap_bold)\n",
    "    pl.xlim(xx.min(), xx.max())\n",
    "    pl.ylim(yy.min(), yy.max())\n",
    "    pl.title(title)\n",
    "    return score"
   ]
  },
  {
   "cell_type": "code",
   "execution_count": 10,
   "metadata": {},
   "outputs": [],
   "source": [
    "xs = np.array(x)\n",
    "ys = [0] * len(urso_features) + [1] * len(elefante_features) + [2] * len(leopardo_features)"
   ]
  },
  {
   "cell_type": "code",
   "execution_count": 11,
   "metadata": {},
   "outputs": [
    {
     "name": "stdout",
     "output_type": "stream",
     "text": [
      "Classification score was: 1.0\n"
     ]
    },
    {
     "data": {
      "image/png": "[encoded data removed]",
      "text/plain": [
       "<Figure size 432x288 with 1 Axes>"
      ]
     },
     "metadata": {},
     "output_type": "display_data"
    }
   ],
   "source": [
    "score = plot_classification_results(clf, xs, ys, \"Multiclass Classification\")\n",
    "print (\"Classification score was: %s\" % score)"
   ]
  },
  {
   "cell_type": "markdown",
   "metadata": {},
   "source": [
    "### Usando o dataset iris"
   ]
  },
  {
   "cell_type": "code",
   "execution_count": 12,
   "metadata": {},
   "outputs": [
    {
     "name": "stdout",
     "output_type": "stream",
     "text": [
      "[0 1 2]\n",
      "(90, 4) (90,)\n",
      "(60, 4) (60,)\n"
     ]
    },
    {
     "data": {
      "text/plain": [
       "0.7222222222222222"
      ]
     },
     "execution_count": 12,
     "metadata": {},
     "output_type": "execute_result"
    },
    {
     "data": {
      "image/png": "[encoded data removed]",
      "text/plain": [
       "<Figure size 432x288 with 1 Axes>"
      ]
     },
     "metadata": {},
     "output_type": "display_data"
    }
   ],
   "source": [
    "import numpy as np\n",
    "from sklearn import datasets\n",
    "\n",
    "# Dataset\n",
    "iris = datasets.load_iris()\n",
    "\n",
    "# Imprimindo as 3 classes do dataset\n",
    "print(np.unique(iris.target))\n",
    "\n",
    "# Split dos dados\n",
    "X_train, X_test, y_train, y_test = train_test_split(iris.data, iris.target, test_size=0.4)\n",
    "\n",
    "# Shape\n",
    "print(X_train.shape, y_train.shape)\n",
    "print(X_test.shape, y_test.shape)\n",
    "\n",
    "# Classificador\n",
    "clf = GaussianNB()\n",
    "\n",
    "# Resultado\n",
    "plot_classification_results(clf, X_train[:, :2], y_train, \"Multiclass classification\")"
   ]
  },
  {
   "cell_type": "markdown",
   "metadata": {},
   "source": [
    "### Fim"
   ]
  },
  {
   "cell_type": "markdown",
   "metadata": {},
   "source": [
    "### Obrigado - Data Science Academy - <a href=\"http://facebook.com/dsacademybr\">facebook.com/dsacademybr</a>"
   ]
  }
 ],
 "metadata": {
  "anaconda-cloud": {},
  "kernelspec": {
   "display_name": "Python 3",
   "language": "python",
   "name": "python3"
  },
  "language_info": {
   "codemirror_mode": {
    "name": "ipython",
    "version": 3
   },
   "file_extension": ".py",
   "mimetype": "text/x-python",
   "name": "python",
   "nbconvert_exporter": "python",
   "pygments_lexer": "ipython3",
   "version": "3.6.5"
  }
 },
 "nbformat": 4,
 "nbformat_minor": 1
}
