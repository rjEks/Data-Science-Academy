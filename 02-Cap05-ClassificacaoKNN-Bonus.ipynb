{
 "cells": [
  {
   "cell_type": "markdown",
   "metadata": {},
   "source": [
    "# <font color='blue'>Data Science Academy - Machine Learning</font>\n",
    "\n",
    "# <font color='blue'>Capítulo 5 - Classificação KNN</font>"
   ]
  },
  {
   "cell_type": "code",
   "execution_count": 1,
   "metadata": {},
   "outputs": [],
   "source": [
    "import numpy as np\n",
    "import pandas as pd\n",
    "import matplotlib.pyplot as plt\n",
    "from matplotlib.colors import ListedColormap\n",
    "from sklearn import neighbors\n",
    "%matplotlib inline"
   ]
  },
  {
   "cell_type": "code",
   "execution_count": 2,
   "metadata": {},
   "outputs": [],
   "source": [
    "class kNN():\n",
    "\n",
    "    def __init__(self, k):\n",
    "        self.k = k\n",
    "\n",
    "    def _euclidian_distance(self, x1, x2):\n",
    "        \"\"\"Computes Euclidian Distance b/w two feature vectors\n",
    "        X1 can be a numpy ndarray and x2 is numpy array\n",
    "        \"\"\"\n",
    "        a= x1-x2\n",
    "        a2 = a**2\n",
    "        b = np.sum(a2, axis=1)\n",
    "        c = np.sqrt(b)\n",
    "        return c\n",
    "#         return np.sqrt(np.sum((x1 - x2) ** 2, axis=1))\n",
    "\n",
    "    def fit(self, X, y):\n",
    "        \"\"\"takes input of features and corresponding labels\n",
    "\n",
    "        \"\"\"\n",
    "        self.X_data = X\n",
    "        self.y = y\n",
    "\n",
    "    def predict(self, X):\n",
    "        \"\"\"Classify features according to euclidian_distance from all data points\n",
    "\n",
    "        Parameters:\n",
    "\n",
    "        X:\n",
    "        numpy ndarray\n",
    "\n",
    "        \"\"\"\n",
    "\n",
    "        Xn = np.copy(X)\n",
    "\n",
    "        preds = []\n",
    "        # Calcula distância de todos os pontos\n",
    "        for x1 in Xn:\n",
    "            dist = self._euclidian_distance(self.X_data, x1)\n",
    "            dist = np.vstack((dist, self.y)).T\n",
    "            dist = dist[dist[:, 0].argsort(axis=0)][:,-1]\n",
    "            # Top k\n",
    "            pred = sts.mode(dist[0:self.k])[0][0]\n",
    "            preds.append(pred)\n",
    "\n",
    "        return np.array(preds)"
   ]
  },
  {
   "cell_type": "code",
   "execution_count": 3,
   "metadata": {},
   "outputs": [],
   "source": [
    "# Carrega o dataset\n",
    "data = pd.read_csv('iris.data', header=None)"
   ]
  },
  {
   "cell_type": "code",
   "execution_count": 4,
   "metadata": {},
   "outputs": [],
   "source": [
    "h = .02  # step size in the mesh\n",
    "# Color maps\n",
    "cmap_light = ListedColormap(['#FFAAAA', '#AAFFAA', '#AAAAFF'])\n",
    "cmap_bold = ListedColormap(['#FF0000', '#00FF00', '#0000FF'])"
   ]
  },
  {
   "cell_type": "code",
   "execution_count": 5,
   "metadata": {},
   "outputs": [],
   "source": [
    "# Apenas duas primeiras colunas\n",
    "X = data.iloc[:, :2].values\n",
    "y = data.iloc[:, -1]"
   ]
  },
  {
   "cell_type": "code",
   "execution_count": 6,
   "metadata": {},
   "outputs": [],
   "source": [
    "# Converte para floats 0,1,2\n",
    "y = y.apply(lambda x: 0 if x == 'Iris-setosa' else x)\n",
    "y = y.apply(lambda x: 1 if x == 'Iris-versicolor' else x)\n",
    "y = y.apply(lambda x: 2 if x == 'Iris-virginica' else x)\n",
    "\n",
    "y = y.values\n",
    "\n",
    "n_neighbors = 10"
   ]
  },
  {
   "cell_type": "code",
   "execution_count": 7,
   "metadata": {},
   "outputs": [],
   "source": [
    "# ======================================\n",
    "# my kNN\n",
    "cl = kNN(n_neighbors)\n",
    "cl.fit(X, y)\n"
   ]
  },
  {
   "cell_type": "code",
   "execution_count": 8,
   "metadata": {},
   "outputs": [
    {
     "data": {
      "text/plain": [
       "KNeighborsClassifier(algorithm='auto', leaf_size=30, metric='minkowski',\n",
       "           metric_params=None, n_jobs=1, n_neighbors=10, p=2,\n",
       "           weights='uniform')"
      ]
     },
     "execution_count": 8,
     "metadata": {},
     "output_type": "execute_result"
    }
   ],
   "source": [
    "# scikit-learn\n",
    "clf = neighbors.KNeighborsClassifier(n_neighbors, weights='uniform')\n",
    "clf.fit(X, y)"
   ]
  },
  {
   "cell_type": "code",
   "execution_count": 9,
   "metadata": {},
   "outputs": [],
   "source": [
    "# Plot decision boundary\n",
    "x_min, x_max = X[:, 0].min() - 1, X[:, 0].max() + 1\n",
    "y_min, y_max = X[:, 1].min() - 1, X[:, 1].max() + 1\n",
    "xx, yy = np.meshgrid(np.arange(x_min, x_max, h),\n",
    "                     np.arange(y_min, y_max, h))"
   ]
  },
  {
   "cell_type": "code",
   "execution_count": 10,
   "metadata": {},
   "outputs": [],
   "source": [
    "# Obtém as previsões\n",
    "knn_preds = clf.predict(np.c_[xx.ravel(), yy.ravel()])\n",
    "scikit_preds = clf.predict(np.c_[xx.ravel(), yy.ravel()])"
   ]
  },
  {
   "cell_type": "code",
   "execution_count": 11,
   "metadata": {},
   "outputs": [],
   "source": [
    "# Put the result into a color plot\n",
    "knn_preds = knn_preds.reshape(xx.shape)\n",
    "scikit_preds = scikit_preds.reshape(xx.shape)"
   ]
  },
  {
   "cell_type": "code",
   "execution_count": 12,
   "metadata": {},
   "outputs": [
    {
     "data": {
      "text/plain": [
       "<matplotlib.collections.QuadMesh at 0x1a231f6ef0>"
      ]
     },
     "execution_count": 12,
     "metadata": {},
     "output_type": "execute_result"
    },
    {
     "data": {
      "image/png": "[encoded data removed]",
      "text/plain": [
       "<Figure size 432x288 with 1 Axes>"
      ]
     },
     "metadata": {},
     "output_type": "display_data"
    }
   ],
   "source": [
    "# Plot das previsões KNN\n",
    "plt.figure()\n",
    "plt.pcolormesh(xx, yy, knn_preds, cmap=cmap_light,\n",
    "               vmin=knn_preds.min(), vmax=knn_preds.max())"
   ]
  },
  {
   "cell_type": "code",
   "execution_count": 13,
   "metadata": {},
   "outputs": [
    {
     "data": {
      "image/png": "[encoded data removed]",
      "text/plain": [
       "<Figure size 432x288 with 1 Axes>"
      ]
     },
     "metadata": {},
     "output_type": "display_data"
    }
   ],
   "source": [
    "# Plot dos pontos de dados de treinamento\n",
    "plt.scatter(X[:, 0], X[:, 1], c=y, cmap=cmap_bold)\n",
    "plt.xlim(xx.min(), xx.max())\n",
    "plt.ylim(yy.min(), yy.max())\n",
    "plt.title('Prediction from kNN')\n",
    "plt.savefig('knn_example.png')"
   ]
  },
  {
   "cell_type": "code",
   "execution_count": 14,
   "metadata": {},
   "outputs": [
    {
     "data": {
      "image/png": "[encoded data removed]",
      "text/plain": [
       "<Figure size 432x288 with 1 Axes>"
      ]
     },
     "metadata": {},
     "output_type": "display_data"
    }
   ],
   "source": [
    "# Plot previsões scikit-learn \n",
    "plt.figure()\n",
    "plt.pcolormesh(xx, yy, scikit_preds, cmap=cmap_light,\n",
    "               vmin=scikit_preds.min(), vmax=scikit_preds.max())\n",
    "\n",
    "# Plot dos pontos de dados\n",
    "plt.scatter(X[:, 0], X[:, 1], c=y, cmap=cmap_bold)\n",
    "plt.xlim(xx.min(), xx.max())\n",
    "plt.ylim(yy.min(), yy.max())\n",
    "plt.title('Prediction from scikit-learn')\n",
    "\n",
    "plt.show()"
   ]
  },
  {
   "cell_type": "markdown",
   "metadata": {
    "collapsed": true
   },
   "source": [
    "# Fim"
   ]
  },
  {
   "cell_type": "markdown",
   "metadata": {},
   "source": [
    "### Obrigado - Data Science Academy - <a href=\"http://facebook.com/dsacademybr\">facebook.com/dsacademybr</a>"
   ]
  }
 ],
 "metadata": {
  "anaconda-cloud": {},
  "kernelspec": {
   "display_name": "Python 3",
   "language": "python",
   "name": "python3"
  },
  "language_info": {
   "codemirror_mode": {
    "name": "ipython",
    "version": 3
   },
   "file_extension": ".py",
   "mimetype": "text/x-python",
   "name": "python",
   "nbconvert_exporter": "python",
   "pygments_lexer": "ipython3",
   "version": "3.6.5"
  }
 },
 "nbformat": 4,
 "nbformat_minor": 1
}
