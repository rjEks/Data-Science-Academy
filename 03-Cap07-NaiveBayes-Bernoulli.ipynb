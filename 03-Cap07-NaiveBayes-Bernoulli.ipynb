{
 "cells": [
  {
   "cell_type": "markdown",
   "metadata": {},
   "source": [
    "# <font color='blue'>Data Science Academy - Machine Learning</font>\n",
    "\n",
    "# <font color='blue'>Capítulo 7 - Naive Bayes</font>"
   ]
  },
  {
   "cell_type": "markdown",
   "metadata": {},
   "source": [
    "http://scikit-learn.org/stable/modules/naive_bayes.html"
   ]
  },
  {
   "cell_type": "markdown",
   "metadata": {},
   "source": [
    "## Bernoulli Naive Bayes - Scikit-Learn"
   ]
  },
  {
   "cell_type": "markdown",
   "metadata": {},
   "source": [
    "Assim como MultinomialNB, o classificador BernoulliNB é adequado para dados discretos. A diferença é que enquanto MultinomialNB trabalha com contagens de ocorrência o BernoulliNB é projetado para recursos binários / booleanos."
   ]
  },
  {
   "cell_type": "markdown",
   "metadata": {},
   "source": [
    "http://scikit-learn.org/stable/modules/generated/sklearn.naive_bayes.BernoulliNB.html"
   ]
  },
  {
   "cell_type": "markdown",
   "metadata": {},
   "source": [
    "O RandomTreesEmbedding fornece uma maneira de mapear dados para uma representação de dados altamente dimensionais e esparsos, o que pode ser benéfico para problemas de classificação. O mapeamento é completamente sem supervisão e muito eficiente.\n",
    "\n",
    "Este exemplo visualiza as partições dadas por várias árvores e mostra como a transformação também pode ser usada para redução de dimensionalidade não-linear ou classificação não-linear.\n",
    "\n",
    "Pontos que são vizinhos muitas vezes compartilham a mesma folha de uma árvore e, portanto, compartilham grandes partes de sua representação hash. Isto permite separar dois círculos concêntricos simplesmente com base nos componentes principais dos dados transformados com SVD (Singular Value Decomposition).\n",
    "\n",
    "Em espaços de alta dimensão, os classificadores lineares conseguem frequentemente uma excelente precisão. Para dados binários esparsos, o BernoulliNB é particularmente adequado. Os gráficos abaixo comparam o limite de decisão obtido pelo modelo BernoulliNB no espaço transformado com as florestas ExtraTreesClassifier aprendidas nos dados originais."
   ]
  },
  {
   "cell_type": "code",
   "execution_count": 1,
   "metadata": {},
   "outputs": [
    {
     "data": {
      "text/plain": [
       "<Figure size 900x800 with 4 Axes>"
      ]
     },
     "metadata": {},
     "output_type": "display_data"
    }
   ],
   "source": [
    "import numpy as np\n",
    "import matplotlib.pyplot as plt\n",
    "\n",
    "from sklearn.datasets import make_circles\n",
    "from sklearn.ensemble import RandomTreesEmbedding, ExtraTreesClassifier\n",
    "from sklearn.decomposition import TruncatedSVD\n",
    "from sklearn.naive_bayes import BernoulliNB\n",
    "\n",
    "# Gerando uma massa de dados\n",
    "X, y = make_circles(factor = 0.5, random_state = 0, noise = 0.05)\n",
    "\n",
    "# Usando o RandomTreesEmbedding para transformar dados\n",
    "hasher = RandomTreesEmbedding(n_estimators = 10, random_state = 0, max_depth = 3)\n",
    "X_transformed = hasher.fit_transform(X)\n",
    "\n",
    "# Visualizando o resultado após a redução da dimensionalidade com SVD\n",
    "svd = TruncatedSVD(n_components = 2)\n",
    "X_reduced = svd.fit_transform(X_transformed)\n",
    "\n",
    "# Criando um Classificador Naive Bayes e aplicando aos dados transformados\n",
    "nb = BernoulliNB()\n",
    "nb.fit(X_transformed, y)\n",
    "\n",
    "# Criando um Classificador ExtraTreesClassifier para comparação\n",
    "trees = ExtraTreesClassifier(max_depth = 3, n_estimators = 10, random_state = 0)\n",
    "trees.fit(X, y)\n",
    "\n",
    "# Plot\n",
    "fig = plt.figure(figsize=(9, 8))\n",
    "\n",
    "ax = plt.subplot(221)\n",
    "ax.scatter(X[:, 0], X[:, 1], c=y, s=50)\n",
    "ax.set_title(\"Variáveis Target Originais (2d)\")\n",
    "ax.set_xticks(())\n",
    "ax.set_yticks(())\n",
    "\n",
    "ax = plt.subplot(222)\n",
    "ax.scatter(X_reduced[:, 0], X_reduced[:, 1], c=y, s=50)\n",
    "ax.set_title(\"Dados reduzidos com SVD (2d) a partir dos dados transformados (%dd)\" % X_transformed.shape[1])\n",
    "ax.set_xticks(())\n",
    "ax.set_yticks(())\n",
    "\n",
    "# Plotando o espaço de decisão original e aplicando as cores no MeshGrid\n",
    "h = .01\n",
    "x_min, x_max = X[:, 0].min() - .5, X[:, 0].max() + .5\n",
    "y_min, y_max = X[:, 1].min() - .5, X[:, 1].max() + .5\n",
    "xx, yy = np.meshgrid(np.arange(x_min, x_max, h), np.arange(y_min, y_max, h))\n",
    "\n",
    "# Transforma o Grid usando RandomTreesEmbedding\n",
    "transformed_grid = hasher.transform(np.c_[xx.ravel(), yy.ravel()])\n",
    "y_grid_pred = nb.predict_proba(transformed_grid)[:, 1]\n",
    "\n",
    "ax = plt.subplot(223)\n",
    "ax.set_title(\"Naive Bayes nos Dados Transformados\")\n",
    "ax.pcolormesh(xx, yy, y_grid_pred.reshape(xx.shape))\n",
    "ax.scatter(X[:, 0], X[:, 1], c=y, s=50)\n",
    "ax.set_ylim(-1.4, 1.4)\n",
    "ax.set_xlim(-1.4, 1.4)\n",
    "ax.set_xticks(())\n",
    "ax.set_yticks(())\n",
    "\n",
    "# Transformando o Grid usando ExtraTreesClassifier\n",
    "y_grid_pred = trees.predict_proba(np.c_[xx.ravel(), yy.ravel()])[:, 1]\n",
    "\n",
    "ax = plt.subplot(224)\n",
    "ax.set_title(\"ExtraTrees Predictions\")\n",
    "ax.pcolormesh(xx, yy, y_grid_pred.reshape(xx.shape))\n",
    "ax.scatter(X[:, 0], X[:, 1], c=y, s=50)\n",
    "ax.set_ylim(-1.4, 1.4)\n",
    "ax.set_xlim(-1.4, 1.4)\n",
    "ax.set_xticks(())\n",
    "ax.set_yticks(())\n",
    "\n",
    "plt.tight_layout()\n",
    "plt.show()"
   ]
  },
  {
   "cell_type": "markdown",
   "metadata": {},
   "source": [
    "### Fim"
   ]
  },
  {
   "cell_type": "markdown",
   "metadata": {},
   "source": [
    "### Obrigado - Data Science Academy - <a href=\"http://facebook.com/dsacademybr\">facebook.com/dsacademybr</a>"
   ]
  }
 ],
 "metadata": {
  "anaconda-cloud": {},
  "kernelspec": {
   "display_name": "Python 3",
   "language": "python",
   "name": "python3"
  },
  "language_info": {
   "codemirror_mode": {
    "name": "ipython",
    "version": 3
   },
   "file_extension": ".py",
   "mimetype": "text/x-python",
   "name": "python",
   "nbconvert_exporter": "python",
   "pygments_lexer": "ipython3",
   "version": "3.6.5"
  }
 },
 "nbformat": 4,
 "nbformat_minor": 1
}
